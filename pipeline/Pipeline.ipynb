{
 "cells": [
  {
   "cell_type": "markdown",
   "id": "ec7d3269-e25d-4014-bbe5-2add425c0ec1",
   "metadata": {},
   "source": [
    "## 1. Imputer 1"
   ]
  },
  {
   "cell_type": "code",
   "execution_count": null,
   "id": "1c55ac8a-e1c8-43c0-975d-e4c9404b0f11",
   "metadata": {},
   "outputs": [],
   "source": [
    "import numpy as np\n",
    "from sklearn.impute import SimpleImputer\n",
    "from sklearn.preprocessing import StandardScaler\n",
    "from sklearn.preprocessing import OneHotEncoder\n",
    "from sklearn.preprocessing import OrdinalEncoder\n",
    "import pandas as pd"
   ]
  },
  {
   "cell_type": "code",
   "execution_count": null,
   "id": "ed916d8e-f210-4f24-8296-0692c8af4efb",
   "metadata": {},
   "outputs": [],
   "source": [
    "train_data = [[7, 6, 5],\n",
    "              [4, np.nan, 5],\n",
    "              [1, 20, 8]]\n",
    "test_data = [[np.nan, 1, 2],\n",
    "             [7, np.nan, 9],\n",
    "             [np.nan, 2, 4]]"
   ]
  },
  {
   "cell_type": "code",
   "execution_count": null,
   "id": "d9097fad-16ab-4966-b0f4-952beda8660b",
   "metadata": {},
   "outputs": [],
   "source": [
    "imp_mean = SimpleImputer()\n",
    "imp_mean.fit(train_data)\n",
    "print(imp_mean.statistics_, \"\\n\")\n",
    "np.all(imp_mean.statistics_ == np.nanmean(train_data, axis=0))"
   ]
  },
  {
   "cell_type": "code",
   "execution_count": null,
   "id": "01b29168-4cfe-49fb-9dcd-df10e804b4dd",
   "metadata": {},
   "outputs": [],
   "source": [
    "print(imp_mean.transform(train_data), \"\\n\")\n",
    "imp_mean.transform(test_data)"
   ]
  },
  {
   "cell_type": "markdown",
   "id": "0dd0f921-fb33-4389-8483-2efdab21a3e1",
   "metadata": {},
   "source": [
    "## 2. Scaler"
   ]
  },
  {
   "cell_type": "code",
   "execution_count": null,
   "id": "0076ac8a-f335-41a2-a113-0a5b5d6861b6",
   "metadata": {},
   "outputs": [],
   "source": [
    "X_train = np.array([[ 1., -1.,  2.],\n",
    "                     [ 2.,  0.,  0.],\n",
    "                     [ 0.,  1., -1.]])\n",
    "X_test = np.array([[ 2., -1.,  1.],\n",
    "                     [ 3.,  3.,  -1.],\n",
    "                     [ 1.,  1., 1.]])"
   ]
  },
  {
   "cell_type": "code",
   "execution_count": null,
   "id": "809079df-df1e-4683-9a43-cb57ed6b72ac",
   "metadata": {},
   "outputs": [],
   "source": [
    "scaler = StandardScaler()\n",
    "X_train_transform = scaler.fit_transform(X_train)\n",
    "X_train_transform"
   ]
  },
  {
   "cell_type": "code",
   "execution_count": null,
   "id": "b32cc3a0-6dd1-4260-9873-831ec2c0e429",
   "metadata": {},
   "outputs": [],
   "source": [
    "np.mean(X_train_transform, axis=0)"
   ]
  },
  {
   "cell_type": "code",
   "execution_count": null,
   "id": "a37babba-d857-47a4-9f36-f1fd5ed26c93",
   "metadata": {},
   "outputs": [],
   "source": [
    "np.std(X_train_transform, axis=0)"
   ]
  },
  {
   "cell_type": "code",
   "execution_count": null,
   "id": "80b7d0dc-14e5-4568-975f-0c546b8a3f13",
   "metadata": {},
   "outputs": [],
   "source": [
    "scaler.transform(X_test)"
   ]
  },
  {
   "cell_type": "markdown",
   "id": "f04ce703-ab5c-4a9e-8731-57769e033068",
   "metadata": {},
   "source": [
    "## 3. One hot encoder"
   ]
  },
  {
   "cell_type": "code",
   "execution_count": null,
   "id": "56f4821c-2228-4980-a6ca-abd6f6953c79",
   "metadata": {},
   "outputs": [],
   "source": [
    "X_train = [['Python'], ['Java'], ['Java'], ['C++']]\n",
    "X_test = [['Python'], ['Java'], ['C'], ['C++']]"
   ]
  },
  {
   "cell_type": "code",
   "execution_count": null,
   "id": "04c28956-2da5-45c7-b967-f97730d353ee",
   "metadata": {},
   "outputs": [],
   "source": [
    "enc = OneHotEncoder(handle_unknown=\"ignore\")\n",
    "enc.fit(X_train)\n",
    "X_train_transform = enc.transform(X_train)\n",
    "pd.DataFrame(data=X_train_transform.toarray(), columns=enc.categories_[0])"
   ]
  },
  {
   "cell_type": "code",
   "execution_count": null,
   "id": "0efebba7-efb7-4865-88f3-3d68f6b6b548",
   "metadata": {},
   "outputs": [],
   "source": [
    "X_test_transform = enc.transform(X_test)\n",
    "pd.DataFrame(data=X_test_transform.toarray(), columns=enc.categories_)"
   ]
  },
  {
   "cell_type": "markdown",
   "id": "f6573254-5208-4fd7-86b3-db03bf93c188",
   "metadata": {},
   "source": [
    "## 4. Ordinal Encoder "
   ]
  },
  {
   "cell_type": "code",
   "execution_count": null,
   "id": "7d1f35e6-e5d7-4dde-9f0d-04c5c53e5c40",
   "metadata": {},
   "outputs": [],
   "source": [
    "X_train = [['good'], ['bad'], ['neutral']]\n",
    "X_test = [['good'], ['good'], ['bad']]"
   ]
  },
  {
   "cell_type": "code",
   "execution_count": null,
   "id": "1f7bb9d7-d038-47da-8a70-6bea5079a20d",
   "metadata": {},
   "outputs": [],
   "source": [
    "enc = OrdinalEncoder(categories=[[\"bad\", \"neutral\", \"good\"]])\n",
    "enc.fit(X_train)\n",
    "enc.transform(X_train)"
   ]
  },
  {
   "cell_type": "code",
   "execution_count": null,
   "id": "844a34ea-d82a-4f38-95b5-97204443d0f9",
   "metadata": {},
   "outputs": [],
   "source": [
    "enc.categories_"
   ]
  },
  {
   "cell_type": "code",
   "execution_count": null,
   "id": "b67700c0-6cee-499f-a9aa-1f4ff2bb5a30",
   "metadata": {},
   "outputs": [],
   "source": [
    "enc.transform(X_test)"
   ]
  },
  {
   "cell_type": "markdown",
   "id": "d7304bcf-c7ec-445a-a040-4186f3420fb9",
   "metadata": {},
   "source": [
    "## 5. Categorical variables"
   ]
  },
  {
   "cell_type": "code",
   "execution_count": 1,
   "id": "3e5aa69e-5f8d-4e1d-aaac-3bac6bf98574",
   "metadata": {},
   "outputs": [],
   "source": [
    "import pandas as pd\n",
    "from sklearn.model_selection import train_test_split\n",
    "from sklearn.linear_model import LogisticRegression\n",
    "from sklearn.metrics import confusion_matrix"
   ]
  },
  {
   "cell_type": "code",
   "execution_count": 2,
   "id": "edc0a0aa-733d-4a5d-8d4d-cee6070ce922",
   "metadata": {},
   "outputs": [
    {
     "data": {
      "text/html": [
       "<div>\n",
       "<style scoped>\n",
       "    .dataframe tbody tr th:only-of-type {\n",
       "        vertical-align: middle;\n",
       "    }\n",
       "\n",
       "    .dataframe tbody tr th {\n",
       "        vertical-align: top;\n",
       "    }\n",
       "\n",
       "    .dataframe thead th {\n",
       "        text-align: right;\n",
       "    }\n",
       "</style>\n",
       "<table border=\"1\" class=\"dataframe\">\n",
       "  <thead>\n",
       "    <tr style=\"text-align: right;\">\n",
       "      <th></th>\n",
       "      <th>Clump Thickness</th>\n",
       "      <th>Uniformity of Cell Size</th>\n",
       "      <th>Uniformity of Cell Shape</th>\n",
       "      <th>Marginal Adhesion</th>\n",
       "      <th>Single Epithelial Cell Size</th>\n",
       "      <th>Bare Nuclei</th>\n",
       "      <th>Bland Chromatin</th>\n",
       "      <th>Normal Nucleoli</th>\n",
       "      <th>Mitoses</th>\n",
       "      <th>Class</th>\n",
       "    </tr>\n",
       "    <tr>\n",
       "      <th>Sample code number</th>\n",
       "      <th></th>\n",
       "      <th></th>\n",
       "      <th></th>\n",
       "      <th></th>\n",
       "      <th></th>\n",
       "      <th></th>\n",
       "      <th></th>\n",
       "      <th></th>\n",
       "      <th></th>\n",
       "      <th></th>\n",
       "    </tr>\n",
       "  </thead>\n",
       "  <tbody>\n",
       "    <tr>\n",
       "      <th>1000025</th>\n",
       "      <td>5</td>\n",
       "      <td>1</td>\n",
       "      <td>1</td>\n",
       "      <td>1</td>\n",
       "      <td>2</td>\n",
       "      <td>1.0</td>\n",
       "      <td>3</td>\n",
       "      <td>1</td>\n",
       "      <td>1</td>\n",
       "      <td>2</td>\n",
       "    </tr>\n",
       "    <tr>\n",
       "      <th>1002945</th>\n",
       "      <td>5</td>\n",
       "      <td>4</td>\n",
       "      <td>4</td>\n",
       "      <td>5</td>\n",
       "      <td>7</td>\n",
       "      <td>10.0</td>\n",
       "      <td>3</td>\n",
       "      <td>2</td>\n",
       "      <td>1</td>\n",
       "      <td>2</td>\n",
       "    </tr>\n",
       "    <tr>\n",
       "      <th>1015425</th>\n",
       "      <td>3</td>\n",
       "      <td>1</td>\n",
       "      <td>1</td>\n",
       "      <td>1</td>\n",
       "      <td>2</td>\n",
       "      <td>2.0</td>\n",
       "      <td>3</td>\n",
       "      <td>1</td>\n",
       "      <td>1</td>\n",
       "      <td>2</td>\n",
       "    </tr>\n",
       "    <tr>\n",
       "      <th>1016277</th>\n",
       "      <td>6</td>\n",
       "      <td>8</td>\n",
       "      <td>8</td>\n",
       "      <td>1</td>\n",
       "      <td>3</td>\n",
       "      <td>4.0</td>\n",
       "      <td>3</td>\n",
       "      <td>7</td>\n",
       "      <td>1</td>\n",
       "      <td>2</td>\n",
       "    </tr>\n",
       "    <tr>\n",
       "      <th>1017023</th>\n",
       "      <td>4</td>\n",
       "      <td>1</td>\n",
       "      <td>1</td>\n",
       "      <td>3</td>\n",
       "      <td>2</td>\n",
       "      <td>1.0</td>\n",
       "      <td>3</td>\n",
       "      <td>1</td>\n",
       "      <td>1</td>\n",
       "      <td>2</td>\n",
       "    </tr>\n",
       "    <tr>\n",
       "      <th>...</th>\n",
       "      <td>...</td>\n",
       "      <td>...</td>\n",
       "      <td>...</td>\n",
       "      <td>...</td>\n",
       "      <td>...</td>\n",
       "      <td>...</td>\n",
       "      <td>...</td>\n",
       "      <td>...</td>\n",
       "      <td>...</td>\n",
       "      <td>...</td>\n",
       "    </tr>\n",
       "    <tr>\n",
       "      <th>776715</th>\n",
       "      <td>3</td>\n",
       "      <td>1</td>\n",
       "      <td>1</td>\n",
       "      <td>1</td>\n",
       "      <td>3</td>\n",
       "      <td>2.0</td>\n",
       "      <td>1</td>\n",
       "      <td>1</td>\n",
       "      <td>1</td>\n",
       "      <td>2</td>\n",
       "    </tr>\n",
       "    <tr>\n",
       "      <th>841769</th>\n",
       "      <td>2</td>\n",
       "      <td>1</td>\n",
       "      <td>1</td>\n",
       "      <td>1</td>\n",
       "      <td>2</td>\n",
       "      <td>1.0</td>\n",
       "      <td>1</td>\n",
       "      <td>1</td>\n",
       "      <td>1</td>\n",
       "      <td>2</td>\n",
       "    </tr>\n",
       "    <tr>\n",
       "      <th>888820</th>\n",
       "      <td>5</td>\n",
       "      <td>10</td>\n",
       "      <td>10</td>\n",
       "      <td>3</td>\n",
       "      <td>7</td>\n",
       "      <td>3.0</td>\n",
       "      <td>8</td>\n",
       "      <td>10</td>\n",
       "      <td>2</td>\n",
       "      <td>4</td>\n",
       "    </tr>\n",
       "    <tr>\n",
       "      <th>897471</th>\n",
       "      <td>4</td>\n",
       "      <td>8</td>\n",
       "      <td>6</td>\n",
       "      <td>4</td>\n",
       "      <td>3</td>\n",
       "      <td>4.0</td>\n",
       "      <td>10</td>\n",
       "      <td>6</td>\n",
       "      <td>1</td>\n",
       "      <td>4</td>\n",
       "    </tr>\n",
       "    <tr>\n",
       "      <th>897471</th>\n",
       "      <td>4</td>\n",
       "      <td>8</td>\n",
       "      <td>8</td>\n",
       "      <td>5</td>\n",
       "      <td>4</td>\n",
       "      <td>5.0</td>\n",
       "      <td>10</td>\n",
       "      <td>4</td>\n",
       "      <td>1</td>\n",
       "      <td>4</td>\n",
       "    </tr>\n",
       "  </tbody>\n",
       "</table>\n",
       "<p>699 rows × 10 columns</p>\n",
       "</div>"
      ],
      "text/plain": [
       "                    Clump Thickness  Uniformity of Cell Size  \\\n",
       "Sample code number                                             \n",
       "1000025                           5                        1   \n",
       "1002945                           5                        4   \n",
       "1015425                           3                        1   \n",
       "1016277                           6                        8   \n",
       "1017023                           4                        1   \n",
       "...                             ...                      ...   \n",
       "776715                            3                        1   \n",
       "841769                            2                        1   \n",
       "888820                            5                       10   \n",
       "897471                            4                        8   \n",
       "897471                            4                        8   \n",
       "\n",
       "                    Uniformity of Cell Shape  Marginal Adhesion  \\\n",
       "Sample code number                                                \n",
       "1000025                                    1                  1   \n",
       "1002945                                    4                  5   \n",
       "1015425                                    1                  1   \n",
       "1016277                                    8                  1   \n",
       "1017023                                    1                  3   \n",
       "...                                      ...                ...   \n",
       "776715                                     1                  1   \n",
       "841769                                     1                  1   \n",
       "888820                                    10                  3   \n",
       "897471                                     6                  4   \n",
       "897471                                     8                  5   \n",
       "\n",
       "                    Single Epithelial Cell Size  Bare Nuclei  Bland Chromatin  \\\n",
       "Sample code number                                                              \n",
       "1000025                                       2          1.0                3   \n",
       "1002945                                       7         10.0                3   \n",
       "1015425                                       2          2.0                3   \n",
       "1016277                                       3          4.0                3   \n",
       "1017023                                       2          1.0                3   \n",
       "...                                         ...          ...              ...   \n",
       "776715                                        3          2.0                1   \n",
       "841769                                        2          1.0                1   \n",
       "888820                                        7          3.0                8   \n",
       "897471                                        3          4.0               10   \n",
       "897471                                        4          5.0               10   \n",
       "\n",
       "                    Normal Nucleoli  Mitoses  Class  \n",
       "Sample code number                                   \n",
       "1000025                           1        1      2  \n",
       "1002945                           2        1      2  \n",
       "1015425                           1        1      2  \n",
       "1016277                           7        1      2  \n",
       "1017023                           1        1      2  \n",
       "...                             ...      ...    ...  \n",
       "776715                            1        1      2  \n",
       "841769                            1        1      2  \n",
       "888820                           10        2      4  \n",
       "897471                            6        1      4  \n",
       "897471                            4        1      4  \n",
       "\n",
       "[699 rows x 10 columns]"
      ]
     },
     "execution_count": 2,
     "metadata": {},
     "output_type": "execute_result"
    }
   ],
   "source": [
    "# Classe -> \n",
    "# 2 = Benign;\n",
    "# 4 = Malignant\n",
    "\n",
    "df = pd.read_csv(\"breast-cancer-wisconsin.data\", index_col=\"Sample code number\", \n",
    "    na_values=[\"\", \"?\"],\n",
    "    names=[\n",
    "    \"Sample code number\", \"Clump Thickness\", \"Uniformity of Cell Size\",\n",
    "    \"Uniformity of Cell Shape\", \"Marginal Adhesion\", \"Single Epithelial Cell Size\",\n",
    "    \"Bare Nuclei\", \"Bland Chromatin\", \"Normal Nucleoli\", \"Mitoses\", \"Class\",\n",
    "])\n",
    "df"
   ]
  },
  {
   "cell_type": "code",
   "execution_count": 3,
   "id": "c5a42521-864d-4e40-a8d8-27e9f02d2846",
   "metadata": {},
   "outputs": [
    {
     "data": {
      "text/plain": [
       "Clump Thickness                 0\n",
       "Uniformity of Cell Size         0\n",
       "Uniformity of Cell Shape        0\n",
       "Marginal Adhesion               0\n",
       "Single Epithelial Cell Size     0\n",
       "Bare Nuclei                    16\n",
       "Bland Chromatin                 0\n",
       "Normal Nucleoli                 0\n",
       "Mitoses                         0\n",
       "Class                           0\n",
       "dtype: int64"
      ]
     },
     "execution_count": 3,
     "metadata": {},
     "output_type": "execute_result"
    }
   ],
   "source": [
    "df.isna().sum()"
   ]
  },
  {
   "cell_type": "code",
   "execution_count": 4,
   "id": "2496dfd5-287a-4da8-85a5-c47d5aedd655",
   "metadata": {},
   "outputs": [
    {
     "data": {
      "text/plain": [
       "Clump Thickness                0\n",
       "Uniformity of Cell Size        0\n",
       "Uniformity of Cell Shape       0\n",
       "Marginal Adhesion              0\n",
       "Single Epithelial Cell Size    0\n",
       "Bare Nuclei                    0\n",
       "Bland Chromatin                0\n",
       "Normal Nucleoli                0\n",
       "Mitoses                        0\n",
       "Class                          0\n",
       "dtype: int64"
      ]
     },
     "execution_count": 4,
     "metadata": {},
     "output_type": "execute_result"
    }
   ],
   "source": [
    "df.loc[:, \"Bare Nuclei\"] = df.loc[:, \"Bare Nuclei\"].fillna(df.loc[:, \"Bare Nuclei\"].median())\n",
    "df.isna().sum()"
   ]
  },
  {
   "cell_type": "code",
   "execution_count": 5,
   "id": "4dc33152-6379-4842-8fa1-739579ea757e",
   "metadata": {},
   "outputs": [
    {
     "data": {
      "text/plain": [
       "Class\n",
       "2    0.655222\n",
       "4    0.344778\n",
       "Name: proportion, dtype: float64"
      ]
     },
     "execution_count": 5,
     "metadata": {},
     "output_type": "execute_result"
    }
   ],
   "source": [
    "df.loc[:, \"Class\"].value_counts(2)"
   ]
  },
  {
   "cell_type": "code",
   "execution_count": 12,
   "id": "b35c4d2d-c0c6-4c53-82aa-aba5751f413f",
   "metadata": {},
   "outputs": [
    {
     "name": "stdout",
     "output_type": "stream",
     "text": [
      "unique labels Class\n",
      "2    0.654741\n",
      "4    0.345259\n",
      "Name: proportion, dtype: float64 \n",
      "\n"
     ]
    }
   ],
   "source": [
    "X = df.drop(columns=[\"Class\"])\n",
    "\n",
    "X_train, X_test, y_train, y_test = train_test_split(\n",
    "    X, df.loc[:, \"Class\"],\n",
    "    test_size=0.2, random_state=43, stratify=df.loc[:, \"Class\"])\n",
    "print(\"unique labels\", y_train.value_counts(2), \"\\n\")\n",
    "# y_test.value_counts(2)"
   ]
  },
  {
   "cell_type": "code",
   "execution_count": 7,
   "id": "5fc84828-abde-4e80-93a1-51fb196931f8",
   "metadata": {},
   "outputs": [
    {
     "name": "stdout",
     "output_type": "stream",
     "text": [
      "[4 2 4 2 2 2 2 4 2 2] \n",
      "\n",
      "[0.99600525 0.00908951 0.99992741 0.00528932 0.02098032 0.00582947\n",
      " 0.03566504 0.99515453 0.00788556 0.01065907] \n",
      "\n",
      "[2 2 2 4 2 4 2 2 2 4] \n",
      "\n"
     ]
    },
    {
     "data": {
      "text/plain": [
       "array([0.01747894, 0.22504709, 0.00699085, 0.54019127, 0.00152929,\n",
       "       0.9986223 , 0.33611399, 0.01228123, 0.00438318, 0.99972361])"
      ]
     },
     "execution_count": 7,
     "metadata": {},
     "output_type": "execute_result"
    }
   ],
   "source": [
    "log = LogisticRegression()\n",
    "log.fit(X_train, y_train)\n",
    "\n",
    "y_preds_train = log.predict(X_train)\n",
    "y_preds_test = log.predict(X_test)\n",
    "\n",
    "y_probas_train = log.predict_proba(X_train)\n",
    "y_probas_test = log.predict_proba(X_test)\n",
    "\n",
    "print(y_preds_train[:10], \"\\n\")\n",
    "print(y_probas_train[:10, 1], \"\\n\")\n",
    "\n",
    "print(y_preds_test[:10], \"\\n\")\n",
    "y_probas_test[:10, 1]"
   ]
  },
  {
   "cell_type": "code",
   "execution_count": 8,
   "id": "92d4da9c-4374-4df3-b8f6-56331dd96429",
   "metadata": {},
   "outputs": [
    {
     "name": "stdout",
     "output_type": "stream",
     "text": [
      "0.9695885509838998\n",
      "0.9642857142857143\n"
     ]
    }
   ],
   "source": [
    "print(log.score(X_train, y_train))\n",
    "print(log.score(X_test, y_test))"
   ]
  },
  {
   "cell_type": "code",
   "execution_count": 9,
   "id": "f308e0da-baed-4e34-a48d-9ff650ebd251",
   "metadata": {},
   "outputs": [
    {
     "data": {
      "text/plain": [
       "array([[357,   9],\n",
       "       [  8, 185]])"
      ]
     },
     "execution_count": 9,
     "metadata": {},
     "output_type": "execute_result"
    }
   ],
   "source": [
    "confusion_matrix(y_train, y_preds_train)"
   ]
  },
  {
   "cell_type": "code",
   "execution_count": 10,
   "id": "13411960-a567-411b-86e2-3bd823bcef9d",
   "metadata": {},
   "outputs": [
    {
     "data": {
      "text/plain": [
       "array([[90,  2],\n",
       "       [ 3, 45]])"
      ]
     },
     "execution_count": 10,
     "metadata": {},
     "output_type": "execute_result"
    }
   ],
   "source": [
    "confusion_matrix(y_test, y_preds_test)"
   ]
  },
  {
   "cell_type": "code",
   "execution_count": null,
   "id": "dc15fd80-425d-4e7b-9b80-791aab5c0ec2",
   "metadata": {},
   "outputs": [],
   "source": []
  },
  {
   "cell_type": "markdown",
   "id": "b55b5c8b-85ed-4c84-a584-55f4510080d5",
   "metadata": {},
   "source": [
    "## 6. Pipeline"
   ]
  },
  {
   "cell_type": "code",
   "execution_count": 22,
   "id": "a5c744cb-8350-4601-9a1d-b34876872abb",
   "metadata": {},
   "outputs": [],
   "source": [
    "from sklearn.datasets import load_iris\n",
    "from sklearn.model_selection import train_test_split\n",
    "from sklearn.linear_model import LogisticRegression\n",
    "from sklearn.multiclass import OneVsRestClassifier\n",
    "import pandas as pd\n",
    "import numpy as np"
   ]
  },
  {
   "cell_type": "code",
   "execution_count": 23,
   "id": "f367f3fe-6396-49e3-b7d8-c8c865a5b93a",
   "metadata": {},
   "outputs": [],
   "source": [
    "iris = load_iris()\n",
    "X = pd.DataFrame(data=iris['data'], columns=iris.feature_names)\n",
    "y = pd.DataFrame(data=iris['target'], columns=['target'])"
   ]
  },
  {
   "cell_type": "code",
   "execution_count": 24,
   "id": "df964f3e-62cc-4351-8f7e-2fbda3c98f60",
   "metadata": {},
   "outputs": [],
   "source": [
    "X_train, X_test, y_train, y_test = train_test_split(\n",
    "    X, y, \n",
    "    shuffle=True, random_state=43, test_size=0.33,\n",
    ")"
   ]
  },
  {
   "cell_type": "code",
   "execution_count": 25,
   "id": "86954850-59c0-4058-9356-2b50af83a28b",
   "metadata": {},
   "outputs": [],
   "source": [
    "def train(X_train, y_train):\n",
    "    clf0 = LogisticRegression()\n",
    "    clf1 = LogisticRegression()\n",
    "    clf2 = LogisticRegression()\n",
    "\n",
    "    clf0.fit(X_train, y_train == 0)\n",
    "    clf1.fit(X_train, y_train == 1)\n",
    "    clf2.fit(X_train, y_train == 2)\n",
    "\n",
    "    return clf0, clf1, clf2"
   ]
  },
  {
   "cell_type": "code",
   "execution_count": 26,
   "id": "76b3071d-97f7-4e39-ba66-d59296b8240c",
   "metadata": {},
   "outputs": [],
   "source": [
    "clf0, clf1, clf2 = train(X_train, y_train[\"target\"])"
   ]
  },
  {
   "cell_type": "code",
   "execution_count": 27,
   "id": "5001fcc5-fac3-4b4e-9cd0-70976a511080",
   "metadata": {},
   "outputs": [],
   "source": [
    "def predict_one_vs_all(X, clf0, clf1, clf2):\n",
    "    p0 = clf0.predict_proba(X)[:, 1]\n",
    "    p1 = clf1.predict_proba(X)[:, 1]\n",
    "    p2 = clf2.predict_proba(X)[:, 1]\n",
    "    probs = np.vstack([p0, p1, p2]).T\n",
    "    \n",
    "    classes = np.argmax(probs, axis=1)\n",
    "    return classes"
   ]
  },
  {
   "cell_type": "code",
   "execution_count": 28,
   "id": "a80bafdf-341d-4ff6-9dda-ac718f22ca6f",
   "metadata": {},
   "outputs": [
    {
     "data": {
      "text/plain": [
       "array([0, 0, 2, 1, 2, 0, 2, 1, 1, 1, 0, 1, 2, 0, 1, 1, 0, 0, 2, 2, 0, 0,\n",
       "       0, 2, 2, 2, 0, 1, 0, 0, 1, 0, 1, 1, 2, 2, 2, 2, 1, 1, 1, 2, 1, 2,\n",
       "       0, 1, 1, 1, 1, 2])"
      ]
     },
     "execution_count": 28,
     "metadata": {},
     "output_type": "execute_result"
    }
   ],
   "source": [
    "classes = predict_one_vs_all(X_test, clf0, clf1, clf2)\n",
    "classes"
   ]
  },
  {
   "cell_type": "code",
   "execution_count": 29,
   "id": "a485c20b-eaf9-4238-a63d-055088203cce",
   "metadata": {},
   "outputs": [
    {
     "data": {
      "text/plain": [
       "array([0, 0, 2, 1, 2, 0, 2, 1, 1, 1, 0, 1, 2, 0, 1, 1, 0, 0, 2, 2, 0, 0,\n",
       "       0, 2, 2, 2, 0, 1, 0, 0, 1, 0, 1, 1, 2, 2, 2, 2, 1, 1, 1, 2, 1, 2,\n",
       "       0, 1, 1, 1, 1, 2])"
      ]
     },
     "execution_count": 29,
     "metadata": {},
     "output_type": "execute_result"
    }
   ],
   "source": [
    "lr_ovr = OneVsRestClassifier(LogisticRegression())\n",
    "lr_ovr.fit(X_train, y_train[\"target\"])\n",
    "y_preds = lr_ovr.predict(X_test)\n",
    "y_preds"
   ]
  },
  {
   "cell_type": "code",
   "execution_count": 30,
   "id": "f3af817d-28bc-4368-993a-7aa64556cf5f",
   "metadata": {},
   "outputs": [
    {
     "data": {
      "text/plain": [
       "np.True_"
      ]
     },
     "execution_count": 30,
     "metadata": {},
     "output_type": "execute_result"
    }
   ],
   "source": [
    "np.all(classes == y_preds)"
   ]
  },
  {
   "cell_type": "code",
   "execution_count": null,
   "id": "a249e844-727b-49b7-8bc2-5793078f7c8f",
   "metadata": {},
   "outputs": [],
   "source": []
  },
  {
   "cell_type": "code",
   "execution_count": null,
   "id": "69df51b6-214d-4f35-bbaf-d3ade820f5fc",
   "metadata": {},
   "outputs": [],
   "source": []
  },
  {
   "cell_type": "code",
   "execution_count": null,
   "id": "636bc75c-b1db-4db5-98c0-2be53b397c42",
   "metadata": {},
   "outputs": [],
   "source": []
  },
  {
   "cell_type": "code",
   "execution_count": null,
   "id": "e5c77280-33bc-415e-a56f-3d95c8a3c8da",
   "metadata": {},
   "outputs": [],
   "source": []
  },
  {
   "cell_type": "code",
   "execution_count": null,
   "id": "cd8d3ae8-8ec8-420f-acc1-3c5d91fa87cb",
   "metadata": {},
   "outputs": [],
   "source": []
  }
 ],
 "metadata": {
  "kernelspec": {
   "display_name": "Python 3 (ipykernel)",
   "language": "python",
   "name": "python3"
  },
  "language_info": {
   "codemirror_mode": {
    "name": "ipython",
    "version": 3
   },
   "file_extension": ".py",
   "mimetype": "text/x-python",
   "name": "python",
   "nbconvert_exporter": "python",
   "pygments_lexer": "ipython3",
   "version": "3.12.3"
  }
 },
 "nbformat": 4,
 "nbformat_minor": 5
}
