{
 "cells": [
  {
   "cell_type": "markdown",
   "id": "ec7d3269-e25d-4014-bbe5-2add425c0ec1",
   "metadata": {},
   "source": [
    "## 1. Imputer 1"
   ]
  },
  {
   "cell_type": "code",
   "execution_count": 1,
   "id": "1c55ac8a-e1c8-43c0-975d-e4c9404b0f11",
   "metadata": {},
   "outputs": [],
   "source": [
    "import numpy as np\n",
    "from sklearn.impute import SimpleImputer"
   ]
  },
  {
   "cell_type": "code",
   "execution_count": 2,
   "id": "ed916d8e-f210-4f24-8296-0692c8af4efb",
   "metadata": {},
   "outputs": [],
   "source": [
    "train_data = [[7, 6, 5],\n",
    "              [4, np.nan, 5],\n",
    "              [1, 20, 8]]\n",
    "test_data = [[np.nan, 1, 2],\n",
    "             [7, np.nan, 9],\n",
    "             [np.nan, 2, 4]]"
   ]
  },
  {
   "cell_type": "code",
   "execution_count": 3,
   "id": "d9097fad-16ab-4966-b0f4-952beda8660b",
   "metadata": {},
   "outputs": [
    {
     "name": "stdout",
     "output_type": "stream",
     "text": [
      "[ 4. 13.  6.] \n",
      "\n"
     ]
    },
    {
     "data": {
      "text/plain": [
       "np.True_"
      ]
     },
     "execution_count": 3,
     "metadata": {},
     "output_type": "execute_result"
    }
   ],
   "source": [
    "imp_mean = SimpleImputer()\n",
    "imp_mean.fit(train_data)\n",
    "print(imp_mean.statistics_, \"\\n\")\n",
    "np.all(imp_mean.statistics_ == np.nanmean(train_data, axis=0))"
   ]
  },
  {
   "cell_type": "code",
   "execution_count": 4,
   "id": "01b29168-4cfe-49fb-9dcd-df10e804b4dd",
   "metadata": {},
   "outputs": [
    {
     "name": "stdout",
     "output_type": "stream",
     "text": [
      "[[ 7.  6.  5.]\n",
      " [ 4. 13.  5.]\n",
      " [ 1. 20.  8.]] \n",
      "\n"
     ]
    },
    {
     "data": {
      "text/plain": [
       "array([[ 4.,  1.,  2.],\n",
       "       [ 7., 13.,  9.],\n",
       "       [ 4.,  2.,  4.]])"
      ]
     },
     "execution_count": 4,
     "metadata": {},
     "output_type": "execute_result"
    }
   ],
   "source": [
    "print(imp_mean.transform(train_data), \"\\n\")\n",
    "imp_mean.transform(test_data)"
   ]
  },
  {
   "cell_type": "code",
   "execution_count": null,
   "id": "d49dacde-6656-4eed-a3bb-5aebce8293b2",
   "metadata": {},
   "outputs": [],
   "source": []
  },
  {
   "cell_type": "code",
   "execution_count": null,
   "id": "0076ac8a-f335-41a2-a113-0a5b5d6861b6",
   "metadata": {},
   "outputs": [],
   "source": []
  },
  {
   "cell_type": "code",
   "execution_count": null,
   "id": "809079df-df1e-4683-9a43-cb57ed6b72ac",
   "metadata": {},
   "outputs": [],
   "source": []
  },
  {
   "cell_type": "code",
   "execution_count": null,
   "id": "b32cc3a0-6dd1-4260-9873-831ec2c0e429",
   "metadata": {},
   "outputs": [],
   "source": []
  },
  {
   "cell_type": "code",
   "execution_count": null,
   "id": "a37babba-d857-47a4-9f36-f1fd5ed26c93",
   "metadata": {},
   "outputs": [],
   "source": []
  },
  {
   "cell_type": "code",
   "execution_count": null,
   "id": "80b7d0dc-14e5-4568-975f-0c546b8a3f13",
   "metadata": {},
   "outputs": [],
   "source": []
  },
  {
   "cell_type": "code",
   "execution_count": null,
   "id": "578832e8-a00b-4cb5-b8bb-bda1fa792a76",
   "metadata": {},
   "outputs": [],
   "source": []
  },
  {
   "cell_type": "code",
   "execution_count": null,
   "id": "d5c4029e-f819-4b0a-b476-1e48ed087007",
   "metadata": {},
   "outputs": [],
   "source": []
  },
  {
   "cell_type": "code",
   "execution_count": null,
   "id": "56f4821c-2228-4980-a6ca-abd6f6953c79",
   "metadata": {},
   "outputs": [],
   "source": []
  }
 ],
 "metadata": {
  "kernelspec": {
   "display_name": "Python 3 (ipykernel)",
   "language": "python",
   "name": "python3"
  },
  "language_info": {
   "codemirror_mode": {
    "name": "ipython",
    "version": 3
   },
   "file_extension": ".py",
   "mimetype": "text/x-python",
   "name": "python",
   "nbconvert_exporter": "python",
   "pygments_lexer": "ipython3",
   "version": "3.12.3"
  }
 },
 "nbformat": 4,
 "nbformat_minor": 5
}
