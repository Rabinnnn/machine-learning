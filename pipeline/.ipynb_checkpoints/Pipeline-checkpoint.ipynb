{
 "cells": [
  {
   "cell_type": "markdown",
   "id": "ec7d3269-e25d-4014-bbe5-2add425c0ec1",
   "metadata": {},
   "source": [
    "## 1. Imputer 1"
   ]
  },
  {
   "cell_type": "code",
   "execution_count": 1,
   "id": "1c55ac8a-e1c8-43c0-975d-e4c9404b0f11",
   "metadata": {},
   "outputs": [],
   "source": [
    "import numpy as np\n",
    "from sklearn.impute import SimpleImputer\n",
    "from sklearn.preprocessing import StandardScaler\n",
    "from sklearn.preprocessing import OneHotEncoder\n",
    "import pandas as pd"
   ]
  },
  {
   "cell_type": "code",
   "execution_count": 2,
   "id": "ed916d8e-f210-4f24-8296-0692c8af4efb",
   "metadata": {},
   "outputs": [],
   "source": [
    "train_data = [[7, 6, 5],\n",
    "              [4, np.nan, 5],\n",
    "              [1, 20, 8]]\n",
    "test_data = [[np.nan, 1, 2],\n",
    "             [7, np.nan, 9],\n",
    "             [np.nan, 2, 4]]"
   ]
  },
  {
   "cell_type": "code",
   "execution_count": 3,
   "id": "d9097fad-16ab-4966-b0f4-952beda8660b",
   "metadata": {},
   "outputs": [
    {
     "name": "stdout",
     "output_type": "stream",
     "text": [
      "[ 4. 13.  6.] \n",
      "\n"
     ]
    },
    {
     "data": {
      "text/plain": [
       "np.True_"
      ]
     },
     "execution_count": 3,
     "metadata": {},
     "output_type": "execute_result"
    }
   ],
   "source": [
    "imp_mean = SimpleImputer()\n",
    "imp_mean.fit(train_data)\n",
    "print(imp_mean.statistics_, \"\\n\")\n",
    "np.all(imp_mean.statistics_ == np.nanmean(train_data, axis=0))"
   ]
  },
  {
   "cell_type": "code",
   "execution_count": 4,
   "id": "01b29168-4cfe-49fb-9dcd-df10e804b4dd",
   "metadata": {},
   "outputs": [
    {
     "name": "stdout",
     "output_type": "stream",
     "text": [
      "[[ 7.  6.  5.]\n",
      " [ 4. 13.  5.]\n",
      " [ 1. 20.  8.]] \n",
      "\n"
     ]
    },
    {
     "data": {
      "text/plain": [
       "array([[ 4.,  1.,  2.],\n",
       "       [ 7., 13.,  9.],\n",
       "       [ 4.,  2.,  4.]])"
      ]
     },
     "execution_count": 4,
     "metadata": {},
     "output_type": "execute_result"
    }
   ],
   "source": [
    "print(imp_mean.transform(train_data), \"\\n\")\n",
    "imp_mean.transform(test_data)"
   ]
  },
  {
   "cell_type": "markdown",
   "id": "0dd0f921-fb33-4389-8483-2efdab21a3e1",
   "metadata": {},
   "source": [
    "## 2. Scaler"
   ]
  },
  {
   "cell_type": "code",
   "execution_count": 5,
   "id": "0076ac8a-f335-41a2-a113-0a5b5d6861b6",
   "metadata": {},
   "outputs": [],
   "source": [
    "X_train = np.array([[ 1., -1.,  2.],\n",
    "                     [ 2.,  0.,  0.],\n",
    "                     [ 0.,  1., -1.]])\n",
    "X_test = np.array([[ 2., -1.,  1.],\n",
    "                     [ 3.,  3.,  -1.],\n",
    "                     [ 1.,  1., 1.]])"
   ]
  },
  {
   "cell_type": "code",
   "execution_count": 6,
   "id": "809079df-df1e-4683-9a43-cb57ed6b72ac",
   "metadata": {},
   "outputs": [
    {
     "data": {
      "text/plain": [
       "array([[ 0.        , -1.22474487,  1.33630621],\n",
       "       [ 1.22474487,  0.        , -0.26726124],\n",
       "       [-1.22474487,  1.22474487, -1.06904497]])"
      ]
     },
     "execution_count": 6,
     "metadata": {},
     "output_type": "execute_result"
    }
   ],
   "source": [
    "scaler = StandardScaler()\n",
    "X_train_transform = scaler.fit_transform(X_train)\n",
    "X_train_transform"
   ]
  },
  {
   "cell_type": "code",
   "execution_count": 7,
   "id": "b32cc3a0-6dd1-4260-9873-831ec2c0e429",
   "metadata": {},
   "outputs": [
    {
     "data": {
      "text/plain": [
       "array([0., 0., 0.])"
      ]
     },
     "execution_count": 7,
     "metadata": {},
     "output_type": "execute_result"
    }
   ],
   "source": [
    "np.mean(X_train_transform, axis=0)"
   ]
  },
  {
   "cell_type": "code",
   "execution_count": 8,
   "id": "a37babba-d857-47a4-9f36-f1fd5ed26c93",
   "metadata": {},
   "outputs": [
    {
     "data": {
      "text/plain": [
       "array([1., 1., 1.])"
      ]
     },
     "execution_count": 8,
     "metadata": {},
     "output_type": "execute_result"
    }
   ],
   "source": [
    "np.std(X_train_transform, axis=0)"
   ]
  },
  {
   "cell_type": "code",
   "execution_count": 9,
   "id": "80b7d0dc-14e5-4568-975f-0c546b8a3f13",
   "metadata": {},
   "outputs": [
    {
     "data": {
      "text/plain": [
       "array([[ 1.22474487, -1.22474487,  0.53452248],\n",
       "       [ 2.44948974,  3.67423461, -1.06904497],\n",
       "       [ 0.        ,  1.22474487,  0.53452248]])"
      ]
     },
     "execution_count": 9,
     "metadata": {},
     "output_type": "execute_result"
    }
   ],
   "source": [
    "scaler.transform(X_test)"
   ]
  },
  {
   "cell_type": "markdown",
   "id": "f04ce703-ab5c-4a9e-8731-57769e033068",
   "metadata": {},
   "source": [
    "## 3. One hot encoder"
   ]
  },
  {
   "cell_type": "code",
   "execution_count": 11,
   "id": "56f4821c-2228-4980-a6ca-abd6f6953c79",
   "metadata": {},
   "outputs": [],
   "source": [
    "X_train = [['Python'], ['Java'], ['Java'], ['C++']]\n",
    "X_test = [['Python'], ['Java'], ['C'], ['C++']]"
   ]
  },
  {
   "cell_type": "code",
   "execution_count": 12,
   "id": "04c28956-2da5-45c7-b967-f97730d353ee",
   "metadata": {},
   "outputs": [
    {
     "data": {
      "text/html": [
       "<div>\n",
       "<style scoped>\n",
       "    .dataframe tbody tr th:only-of-type {\n",
       "        vertical-align: middle;\n",
       "    }\n",
       "\n",
       "    .dataframe tbody tr th {\n",
       "        vertical-align: top;\n",
       "    }\n",
       "\n",
       "    .dataframe thead th {\n",
       "        text-align: right;\n",
       "    }\n",
       "</style>\n",
       "<table border=\"1\" class=\"dataframe\">\n",
       "  <thead>\n",
       "    <tr style=\"text-align: right;\">\n",
       "      <th></th>\n",
       "      <th>C++</th>\n",
       "      <th>Java</th>\n",
       "      <th>Python</th>\n",
       "    </tr>\n",
       "  </thead>\n",
       "  <tbody>\n",
       "    <tr>\n",
       "      <th>0</th>\n",
       "      <td>0.0</td>\n",
       "      <td>0.0</td>\n",
       "      <td>1.0</td>\n",
       "    </tr>\n",
       "    <tr>\n",
       "      <th>1</th>\n",
       "      <td>0.0</td>\n",
       "      <td>1.0</td>\n",
       "      <td>0.0</td>\n",
       "    </tr>\n",
       "    <tr>\n",
       "      <th>2</th>\n",
       "      <td>0.0</td>\n",
       "      <td>1.0</td>\n",
       "      <td>0.0</td>\n",
       "    </tr>\n",
       "    <tr>\n",
       "      <th>3</th>\n",
       "      <td>1.0</td>\n",
       "      <td>0.0</td>\n",
       "      <td>0.0</td>\n",
       "    </tr>\n",
       "  </tbody>\n",
       "</table>\n",
       "</div>"
      ],
      "text/plain": [
       "   C++  Java  Python\n",
       "0  0.0   0.0     1.0\n",
       "1  0.0   1.0     0.0\n",
       "2  0.0   1.0     0.0\n",
       "3  1.0   0.0     0.0"
      ]
     },
     "execution_count": 12,
     "metadata": {},
     "output_type": "execute_result"
    }
   ],
   "source": [
    "enc = OneHotEncoder(handle_unknown=\"ignore\")\n",
    "enc.fit(X_train)\n",
    "X_train_transform = enc.transform(X_train)\n",
    "pd.DataFrame(data=X_train_transform.toarray(), columns=enc.categories_[0])"
   ]
  },
  {
   "cell_type": "code",
   "execution_count": 13,
   "id": "0efebba7-efb7-4865-88f3-3d68f6b6b548",
   "metadata": {},
   "outputs": [
    {
     "data": {
      "text/html": [
       "<div>\n",
       "<style scoped>\n",
       "    .dataframe tbody tr th:only-of-type {\n",
       "        vertical-align: middle;\n",
       "    }\n",
       "\n",
       "    .dataframe tbody tr th {\n",
       "        vertical-align: top;\n",
       "    }\n",
       "\n",
       "    .dataframe thead tr th {\n",
       "        text-align: left;\n",
       "    }\n",
       "</style>\n",
       "<table border=\"1\" class=\"dataframe\">\n",
       "  <thead>\n",
       "    <tr>\n",
       "      <th></th>\n",
       "      <th>C++</th>\n",
       "      <th>Java</th>\n",
       "      <th>Python</th>\n",
       "    </tr>\n",
       "  </thead>\n",
       "  <tbody>\n",
       "    <tr>\n",
       "      <th>0</th>\n",
       "      <td>0.0</td>\n",
       "      <td>0.0</td>\n",
       "      <td>1.0</td>\n",
       "    </tr>\n",
       "    <tr>\n",
       "      <th>1</th>\n",
       "      <td>0.0</td>\n",
       "      <td>1.0</td>\n",
       "      <td>0.0</td>\n",
       "    </tr>\n",
       "    <tr>\n",
       "      <th>2</th>\n",
       "      <td>0.0</td>\n",
       "      <td>0.0</td>\n",
       "      <td>0.0</td>\n",
       "    </tr>\n",
       "    <tr>\n",
       "      <th>3</th>\n",
       "      <td>1.0</td>\n",
       "      <td>0.0</td>\n",
       "      <td>0.0</td>\n",
       "    </tr>\n",
       "  </tbody>\n",
       "</table>\n",
       "</div>"
      ],
      "text/plain": [
       "   C++ Java Python\n",
       "0  0.0  0.0    1.0\n",
       "1  0.0  1.0    0.0\n",
       "2  0.0  0.0    0.0\n",
       "3  1.0  0.0    0.0"
      ]
     },
     "execution_count": 13,
     "metadata": {},
     "output_type": "execute_result"
    }
   ],
   "source": [
    "X_test_transform = enc.transform(X_test)\n",
    "pd.DataFrame(data=X_test_transform.toarray(), columns=enc.categories_)"
   ]
  },
  {
   "cell_type": "code",
   "execution_count": null,
   "id": "9a1c9501-05a1-4a8b-be3f-6c606f79f609",
   "metadata": {},
   "outputs": [],
   "source": []
  },
  {
   "cell_type": "code",
   "execution_count": null,
   "id": "7d1f35e6-e5d7-4dde-9f0d-04c5c53e5c40",
   "metadata": {},
   "outputs": [],
   "source": []
  },
  {
   "cell_type": "code",
   "execution_count": null,
   "id": "1f7bb9d7-d038-47da-8a70-6bea5079a20d",
   "metadata": {},
   "outputs": [],
   "source": []
  },
  {
   "cell_type": "code",
   "execution_count": null,
   "id": "844a34ea-d82a-4f38-95b5-97204443d0f9",
   "metadata": {},
   "outputs": [],
   "source": []
  },
  {
   "cell_type": "code",
   "execution_count": null,
   "id": "b67700c0-6cee-499f-a9aa-1f4ff2bb5a30",
   "metadata": {},
   "outputs": [],
   "source": []
  },
  {
   "cell_type": "code",
   "execution_count": null,
   "id": "fb454134-7324-4fcf-9a48-9ecbff1e0b2a",
   "metadata": {},
   "outputs": [],
   "source": []
  },
  {
   "cell_type": "code",
   "execution_count": null,
   "id": "3e5aa69e-5f8d-4e1d-aaac-3bac6bf98574",
   "metadata": {},
   "outputs": [],
   "source": []
  },
  {
   "cell_type": "code",
   "execution_count": null,
   "id": "edc0a0aa-733d-4a5d-8d4d-cee6070ce922",
   "metadata": {},
   "outputs": [],
   "source": []
  },
  {
   "cell_type": "code",
   "execution_count": null,
   "id": "c5a42521-864d-4e40-a8d8-27e9f02d2846",
   "metadata": {},
   "outputs": [],
   "source": []
  },
  {
   "cell_type": "code",
   "execution_count": null,
   "id": "2496dfd5-287a-4da8-85a5-c47d5aedd655",
   "metadata": {},
   "outputs": [],
   "source": []
  }
 ],
 "metadata": {
  "kernelspec": {
   "display_name": "Python 3 (ipykernel)",
   "language": "python",
   "name": "python3"
  },
  "language_info": {
   "codemirror_mode": {
    "name": "ipython",
    "version": 3
   },
   "file_extension": ".py",
   "mimetype": "text/x-python",
   "name": "python",
   "nbconvert_exporter": "python",
   "pygments_lexer": "ipython3",
   "version": "3.12.3"
  }
 },
 "nbformat": 4,
 "nbformat_minor": 5
}
