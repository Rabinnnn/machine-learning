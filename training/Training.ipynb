{
 "cells": [
  {
   "cell_type": "code",
   "execution_count": 6,
   "id": "75e4a73c-fe3b-45e7-8de4-b06254d66409",
   "metadata": {},
   "outputs": [],
   "source": [
    "from sklearn.metrics import mean_squared_error\n",
    "from sklearn.metrics import accuracy_score"
   ]
  },
  {
   "cell_type": "markdown",
   "id": "46cca9c5-c556-41c3-add8-4599d0c61596",
   "metadata": {},
   "source": [
    "## 1. MSE Scikit-learn"
   ]
  },
  {
   "cell_type": "code",
   "execution_count": 7,
   "id": "751a5120-6c88-4821-a8d3-dc2aec47a125",
   "metadata": {},
   "outputs": [],
   "source": [
    "y_true = [91, 51, 2.5, 2, -5]\n",
    "y_pred = [90, 48, 2, 2, -4]"
   ]
  },
  {
   "cell_type": "code",
   "execution_count": 8,
   "id": "a9f8316c-e8cf-4e7d-9852-31e88cf18a37",
   "metadata": {},
   "outputs": [
    {
     "data": {
      "text/plain": [
       "2.25"
      ]
     },
     "execution_count": 8,
     "metadata": {},
     "output_type": "execute_result"
    }
   ],
   "source": [
    "mean_squared_error(y_true, y_pred)"
   ]
  },
  {
   "cell_type": "markdown",
   "id": "2529bf7d-cf46-49c1-8fdc-7838f2cecaf5",
   "metadata": {},
   "source": [
    "## 2. Accuracy Scikit-learn"
   ]
  },
  {
   "cell_type": "code",
   "execution_count": 9,
   "id": "c80f54f1-e322-440f-a4ca-0fdb0672e147",
   "metadata": {},
   "outputs": [],
   "source": [
    "y_pred = [0, 1, 0, 1, 0, 1, 0]\n",
    "y_true = [0, 0, 1, 1, 1, 1, 0]"
   ]
  },
  {
   "cell_type": "code",
   "execution_count": 10,
   "id": "af53044e-1e14-4906-99a8-6e7adee2094a",
   "metadata": {},
   "outputs": [
    {
     "data": {
      "text/plain": [
       "0.5714285714285714"
      ]
     },
     "execution_count": 10,
     "metadata": {},
     "output_type": "execute_result"
    }
   ],
   "source": [
    "accuracy_score(y_true, y_pred)"
   ]
  },
  {
   "cell_type": "markdown",
   "id": "3e3385c2-d1d8-450a-be6b-3d325a8621c5",
   "metadata": {},
   "source": [
    "## 3. Regression"
   ]
  },
  {
   "cell_type": "code",
   "execution_count": null,
   "id": "99bb5924-329f-4446-8f53-088ce2c25fab",
   "metadata": {},
   "outputs": [],
   "source": [
    "# imports\n",
    "from sklearn.datasets import fetch_california_housing\n",
    "from sklearn.model_selection import train_test_split\n",
    "from sklearn.linear_model import LinearRegression\n",
    "from sklearn.preprocessing import StandardScaler\n",
    "from sklearn.impute import SimpleImputer\n",
    "from sklearn.pipeline import Pipeline\n",
    "from sklearn.metrics import r2_score, mean_squared_error, mean_absolute_error"
   ]
  },
  {
   "cell_type": "code",
   "execution_count": null,
   "id": "a7bd469b-c7c7-4d11-81b3-a1aa9132bed6",
   "metadata": {},
   "outputs": [],
   "source": [
    "# data\n",
    "housing = fetch_california_housing()\n",
    "X, y = housing['data'], housing['target']"
   ]
  },
  {
   "cell_type": "code",
   "execution_count": null,
   "id": "0e6dd65b-3e8c-4305-b0d7-f2b492ce5443",
   "metadata": {},
   "outputs": [],
   "source": [
    "# split data train test\n",
    "X_train, X_test, y_train, y_test = train_test_split(\n",
    "    X, y,\n",
    "    test_size=0.1,\n",
    "    shuffle=True,\n",
    "    random_state=13)"
   ]
  },
  {
   "cell_type": "code",
   "execution_count": null,
   "id": "c3a57801-33bf-4f09-a81c-fc536b35f327",
   "metadata": {},
   "outputs": [],
   "source": [
    "# pipeline\n",
    "pipeline = [\n",
    "    ('imputer', SimpleImputer(strategy='median')),\n",
    "    ('scaler', StandardScaler()),\n",
    "    ('lr', LinearRegression())\n",
    "]\n",
    "pipe = Pipeline(pipeline)"
   ]
  },
  {
   "cell_type": "code",
   "execution_count": null,
   "id": "c99e68c7-6f36-400a-a02b-f0486592c722",
   "metadata": {},
   "outputs": [],
   "source": [
    "# fit\n",
    "pipe.fit(X_train, y_train)"
   ]
  },
  {
   "cell_type": "code",
   "execution_count": null,
   "id": "254ef06a-7a03-441a-95ec-c661f1f59041",
   "metadata": {},
   "outputs": [],
   "source": []
  },
  {
   "cell_type": "code",
   "execution_count": null,
   "id": "09921a9c-8420-41f3-a7d6-057612b7d6d8",
   "metadata": {},
   "outputs": [],
   "source": []
  },
  {
   "cell_type": "code",
   "execution_count": null,
   "id": "c83ebc19-64c1-4403-a874-ef20f1348cf2",
   "metadata": {},
   "outputs": [],
   "source": []
  },
  {
   "cell_type": "code",
   "execution_count": null,
   "id": "f5d9c093-fc0c-4d36-9258-05bf71aa8d86",
   "metadata": {},
   "outputs": [],
   "source": []
  }
 ],
 "metadata": {
  "kernelspec": {
   "display_name": "Python 3 (ipykernel)",
   "language": "python",
   "name": "python3"
  },
  "language_info": {
   "codemirror_mode": {
    "name": "ipython",
    "version": 3
   },
   "file_extension": ".py",
   "mimetype": "text/x-python",
   "name": "python",
   "nbconvert_exporter": "python",
   "pygments_lexer": "ipython3",
   "version": "3.12.3"
  }
 },
 "nbformat": 4,
 "nbformat_minor": 5
}
