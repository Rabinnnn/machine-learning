{
 "cells": [
  {
   "cell_type": "markdown",
   "id": "5a4f4330-9633-4f61-b670-577d22472489",
   "metadata": {},
   "source": [
    "## 1. K-Fold"
   ]
  },
  {
   "cell_type": "code",
   "execution_count": 1,
   "id": "222a9ae6-5d2f-4a49-aaba-a2f61d86a95e",
   "metadata": {},
   "outputs": [],
   "source": [
    "import numpy as np\n",
    "from sklearn.model_selection import KFold"
   ]
  },
  {
   "cell_type": "code",
   "execution_count": 2,
   "id": "fd1b84ef-2aeb-4ef1-8e21-516846cb2ff8",
   "metadata": {},
   "outputs": [],
   "source": [
    "X = np.array(np.arange(1,21).reshape(10,-1))\n",
    "y = np.array(np.arange(1,11))"
   ]
  },
  {
   "cell_type": "code",
   "execution_count": 3,
   "id": "5d2659be-ad92-4a15-9e04-7db86d720571",
   "metadata": {},
   "outputs": [
    {
     "name": "stdout",
     "output_type": "stream",
     "text": [
      "train:  [2 3 4 5 6 7 8 9]  test:  [0 1]\n",
      "train:  [0 1 4 5 6 7 8 9]  test:  [2 3]\n",
      "train:  [0 1 2 3 6 7 8 9]  test:  [4 5]\n",
      "train:  [0 1 2 3 4 5 8 9]  test:  [6 7]\n",
      "train:  [0 1 2 3 4 5 6 7]  test:  [8 9]\n"
     ]
    }
   ],
   "source": [
    "kf = KFold()\n",
    "\n",
    "for (train, test) in kf.split(X):\n",
    "    print(\"train: \", train, \" test: \", test)"
   ]
  },
  {
   "cell_type": "markdown",
   "id": "ad48e27e-77c0-4ba0-ae0b-608fe402ac5e",
   "metadata": {},
   "source": [
    "## 2. Cross validation (k-fold)"
   ]
  },
  {
   "cell_type": "code",
   "execution_count": null,
   "id": "bf0db7ae-dd46-4d58-81f0-f94df7e2ffae",
   "metadata": {},
   "outputs": [],
   "source": [
    "# imports\n",
    "from sklearn.datasets import fetch_california_housing\n",
    "from sklearn.model_selection import train_test_split\n",
    "from sklearn.linear_model import LinearRegression\n",
    "from sklearn.preprocessing import StandardScaler\n",
    "from sklearn.impute import SimpleImputer\n",
    "from sklearn.pipeline import Pipeline\n",
    "\n",
    "from sklearn.model_selection import cross_validate"
   ]
  },
  {
   "cell_type": "code",
   "execution_count": null,
   "id": "429609cd-acb5-4257-8a61-3c3a2ed251e4",
   "metadata": {},
   "outputs": [],
   "source": [
    "# data\n",
    "housing = fetch_california_housing()\n",
    "X, y = housing['data'], housing['target']"
   ]
  },
  {
   "cell_type": "code",
   "execution_count": null,
   "id": "f288e0d1-04c2-4039-ae3b-351011e08061",
   "metadata": {},
   "outputs": [],
   "source": [
    "# split data train test\n",
    "X_train, X_test, y_train, y_test = train_test_split(\n",
    "    X, y,\n",
    "    test_size=0.1,\n",
    "    shuffle=True,\n",
    "    random_state=43\n",
    ")"
   ]
  },
  {
   "cell_type": "code",
   "execution_count": null,
   "id": "6e1e4997-0dfb-4d96-a775-fe1feb32ee38",
   "metadata": {},
   "outputs": [],
   "source": [
    "# pipeline\n",
    "pipeline = [('imputer', SimpleImputer(strategy='median')),\n",
    "            ('scaler', StandardScaler()),\n",
    "            ('lr', LinearRegression())]\n",
    "pipe = Pipeline(pipeline)"
   ]
  },
  {
   "cell_type": "code",
   "execution_count": null,
   "id": "c2ae65a6-2d43-4323-badf-0ce46e2cd012",
   "metadata": {},
   "outputs": [],
   "source": [
    "cv_results = cross_validate(pipe, X_train, y_train, cv=10)"
   ]
  },
  {
   "cell_type": "code",
   "execution_count": null,
   "id": "6280cea7-5eac-4997-8b37-ff96dcdaf03c",
   "metadata": {},
   "outputs": [],
   "source": [
    "cv_results[\"test_score\"]"
   ]
  },
  {
   "cell_type": "code",
   "execution_count": null,
   "id": "40b2d859-7a46-45ce-b497-e847fb62dc64",
   "metadata": {},
   "outputs": [],
   "source": [
    "cv_results[\"test_score\"].mean()"
   ]
  },
  {
   "cell_type": "code",
   "execution_count": null,
   "id": "cea89d2b-f002-42bf-ba1d-c8e4e1e726ca",
   "metadata": {},
   "outputs": [],
   "source": [
    "cv_results[\"test_score\"].std()"
   ]
  },
  {
   "cell_type": "code",
   "execution_count": null,
   "id": "48d5df10-0416-42a7-b16e-a68a04372f40",
   "metadata": {},
   "outputs": [],
   "source": []
  }
 ],
 "metadata": {
  "kernelspec": {
   "display_name": "Python 3 (ipykernel)",
   "language": "python",
   "name": "python3"
  },
  "language_info": {
   "codemirror_mode": {
    "name": "ipython",
    "version": 3
   },
   "file_extension": ".py",
   "mimetype": "text/x-python",
   "name": "python",
   "nbconvert_exporter": "python",
   "pygments_lexer": "ipython3",
   "version": "3.12.3"
  }
 },
 "nbformat": 4,
 "nbformat_minor": 5
}
